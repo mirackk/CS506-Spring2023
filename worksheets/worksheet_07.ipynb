{
 "cells": [
  {
   "cell_type": "markdown",
   "metadata": {},
   "source": [
    "# Worksheet 07\n",
    "\n",
    "Name:  Taoyu Chen\n",
    "UID: U82740711\n",
    "\n",
    "### Topics\n",
    "\n",
    "- Soft Clustering\n",
    "- Clustering Aggregation\n",
    "\n",
    "### Probability Review\n",
    "\n",
    "Read through [the following](https://medium.com/@gallettilance/overview-of-probability-3272b72c82c8)\n",
    "\n",
    "### Soft Clustering\n",
    "\n",
    "We generate 10 data points that come from a normal distribution with mean 5 and variance 1."
   ]
  },
  {
   "cell_type": "code",
   "execution_count": 1,
   "metadata": {},
   "outputs": [
    {
     "name": "stdout",
     "output_type": "stream",
     "text": [
      "[4.144424357998641, 6.855436309046279, 3.8735302307845325, 5.770955816672096, 5.168554279049571, 4.625439672496097, 3.13647132937946, 3.074083316434325, 2.6589586525627107, 4.90401933691874]\n"
     ]
    }
   ],
   "source": [
    "import random\n",
    "import numpy as np\n",
    "from sklearn.cluster import KMeans\n",
    "\n",
    "mean = 5\n",
    "stdev = 1\n",
    "\n",
    "c1 = np.random.normal(mean, stdev, 10).tolist()\n",
    "print(c1)"
   ]
  },
  {
   "cell_type": "markdown",
   "metadata": {},
   "source": [
    "a) Generate 10 more data points, this time coming from a normal distribution with mean 8 and variance 1."
   ]
  },
  {
   "cell_type": "code",
   "execution_count": 3,
   "metadata": {},
   "outputs": [
    {
     "name": "stdout",
     "output_type": "stream",
     "text": [
      "[7.189745483105459, 7.536872853421574, 7.889057752882981, 7.411941830633892, 8.23280506056468, 8.17733599200925, 7.794180905641904, 9.292010447618445, 6.764626397195623, 8.523721486141207]\n"
     ]
    }
   ],
   "source": [
    "mean = 8\n",
    "stdev = 1\n",
    "c2 = np.random.normal( mean , stdev , 10 ).tolist()\n",
    "print(c2)"
   ]
  },
  {
   "cell_type": "markdown",
   "metadata": {},
   "source": [
    "b) Flip a fair coin 10 times. If the coin lands on H, then pick the last data point of `c1` and remove it from `c1`, if T then pick the last data point from `c2` and remove it from `c2`. Add these 10 points to a list called `data`."
   ]
  },
  {
   "cell_type": "code",
   "execution_count": 4,
   "metadata": {},
   "outputs": [
    {
     "name": "stdout",
     "output_type": "stream",
     "text": [
      "[4.90401933691874, 8.523721486141207, 2.6589586525627107, 6.764626397195623, 3.074083316434325, 3.13647132937946, 9.292010447618445, 4.625439672496097, 5.168554279049571, 7.794180905641904]\n"
     ]
    }
   ],
   "source": [
    "data = []\n",
    "for i in range(10):\n",
    "    # flip coin\n",
    "    coin_output = random.choice([0, 1])\n",
    "    if coin_output == 0:\n",
    "        p1 = c1.pop()\n",
    "        data.append(p1)\n",
    "    else:\n",
    "        p2 = c2.pop()\n",
    "        data.append(p2)\n",
    "print(data)"
   ]
  },
  {
   "cell_type": "markdown",
   "metadata": {},
   "source": [
    "c) This `data` is a Gaussian Mixture Distribution with 2 mixture components. Over the next few questions we will walk through the GMM algorithm to see if we can uncover the parameters we used to generate this data. First, please list all these parameters of the GMM that created `data` and the values we know they have."
   ]
  },
  {
   "cell_type": "markdown",
   "metadata": {},
   "source": [
    "Number of mixture components: 2\n",
    "Means of mixture components: 5 and 8\n",
    "Standard deviations of mixture components: 1"
   ]
  },
  {
   "cell_type": "markdown",
   "metadata": {},
   "source": [
    "d) Let's assume there are two mixture components (note: we could plot the data and make the observation that there are two clusters). The EM algorithm asks us to start with a random `mean_j`, `variance_j`, `P(C_j)` for each component j. One method we could use to find sensible values for these is to apply K means with k=2 here.\n",
    "\n",
    "1. the centroids would be the estimates of the `mean_j`\n",
    "2. the intra-cluster variance could be the estimate of `variance_j`\n",
    "3. the proportion of points in each cluster could be the estimate of `P(C_j)`\n",
    "\n",
    "Go through this process and list the parameter estimates it gives. Are they close or far from the true values?"
   ]
  },
  {
   "cell_type": "code",
   "execution_count": 5,
   "metadata": {},
   "outputs": [
    {
     "name": "stdout",
     "output_type": "stream",
     "text": [
      "[4.90401933691874, 2.6589586525627107, 3.074083316434325, 3.13647132937946, 4.625439672496097, 5.168554279049571]\n",
      "[8.523721486141207, 6.764626397195623, 9.292010447618445, 7.794180905641904]\n",
      "P(C_1) = 0.6,  P(C_2) = 0.4\n",
      "mean_1 = 3.9279210978068178,  mean_2 = 8.093634809149295\n",
      "var_1 = 0.9906946675195328,  var_2 = 0.8692536799929309\n"
     ]
    },
    {
     "name": "stderr",
     "output_type": "stream",
     "text": [
      "/Users/mirackchan/Library/Python/3.9/lib/python/site-packages/sklearn/cluster/_kmeans.py:870: FutureWarning: The default value of `n_init` will change from 10 to 'auto' in 1.4. Set the value of `n_init` explicitly to suppress the warning\n",
      "  warnings.warn(\n"
     ]
    }
   ],
   "source": [
    "kmeans = KMeans(2, init='k-means++').fit(X=np.array(data).reshape(-1, 1))\n",
    "\n",
    "c1 = [x[0] for x in filter(lambda x: x[1] == 0, zip(data, kmeans.labels_))]\n",
    "print(c1)\n",
    "c2 = [x[0] for x in filter(lambda x: x[1] == 1, zip(data, kmeans.labels_))]\n",
    "print(c2)\n",
    "\n",
    "prob_c = [ len(c1) / (len(c1) + len(c2)) , len(c2) / (len(c1) + len(c2))]\n",
    "mean = [ sum(c1)/len(c1) , sum(c2)/len(c2) ]\n",
    "var = [ sum(map(lambda x : (x - mean[0])**2, c1)) / len(c1) , sum(map(lambda x : (x - mean[1])**2, c2)) / len(c2) ]\n",
    "\n",
    "print(\"P(C_1) = \" + str(prob_c[0]) + \",  P(C_2) = \" + str(prob_c[1]))\n",
    "print(\"mean_1 = \" + str(mean[0]) + \",  mean_2 = \" + str(mean[1]))\n",
    "print(\"var_1 = \" + str(var[0]) + \",  var_2 = \" + str(var[1]))"
   ]
  },
  {
   "cell_type": "markdown",
   "metadata": {},
   "source": []
  },
  {
   "cell_type": "markdown",
   "metadata": {},
   "source": [
    "e) For each data point, compute `P(C_j | X_i)`. Comment on which cluster you think each point belongs to based on the estimated probabilities. How does that compare to the truth?"
   ]
  },
  {
   "cell_type": "code",
   "execution_count": 6,
   "metadata": {},
   "outputs": [
    {
     "name": "stdout",
     "output_type": "stream",
     "text": [
      "point =  4.90401933691874\n",
      "probability of observing that point if it came from cluster 0 =  0.24784179858658997\n",
      "probability of observing that point if it came from cluster 1 =  0.0005470528146541604\n",
      "point =  8.523721486141207\n",
      "probability of observing that point if it came from cluster 0 =  8.549827268588535e-06\n",
      "probability of observing that point if it came from cluster 1 =  0.4060737971802223\n",
      "point =  2.6589586525627107\n",
      "probability of observing that point if it came from cluster 0 =  0.1772988929481532\n",
      "probability of observing that point if it came from cluster 1 =  1.4917663316914281e-09\n",
      "point =  6.764626397195623\n",
      "probability of observing that point if it came from cluster 0 =  0.006677741504533481\n",
      "probability of observing that point if it came from cluster 1 =  0.14261633490993583\n",
      "point =  3.074083316434325\n",
      "probability of observing that point if it came from cluster 0 =  0.27776247332753273\n",
      "probability of observing that point if it came from cluster 1 =  2.6356530739657027e-08\n",
      "point =  3.13647132937946\n",
      "probability of observing that point if it came from cluster 0 =  0.29267363167402244\n",
      "probability of observing that point if it came from cluster 1 =  3.9789031907549084e-08\n",
      "point =  9.292010447618445\n",
      "probability of observing that point if it came from cluster 0 =  1.7336830188066865e-07\n",
      "probability of observing that point if it came from cluster 1 =  0.1774399659672844\n",
      "point =  4.625439672496097\n",
      "probability of observing that point if it came from cluster 0 =  0.3142875191009869\n",
      "probability of observing that point if it came from cluster 1 =  0.0001603285986150671\n",
      "point =  5.168554279049571\n",
      "probability of observing that point if it came from cluster 0 =  0.1838380818461638\n",
      "probability of observing that point if it came from cluster 1 =  0.0015954603742225923\n",
      "point =  7.794180905641904\n",
      "probability of observing that point if it came from cluster 0 =  0.00019851741269253607\n",
      "probability of observing that point if it came from cluster 1 =  0.43250698492241363\n",
      "4.90401933691874\n",
      "Probability of coming from C_1 = 0.9985306513900492\n",
      "Probability of coming from C_2 = 0.0014693486099508284\n",
      "\n",
      "8.523721486141207\n",
      "Probability of coming from C_1 = 3.158129376981488e-05\n",
      "Probability of coming from C_2 = 0.9999684187062302\n",
      "\n",
      "2.6589586525627107\n",
      "Probability of coming from C_1 = 0.9999999943907666\n",
      "Probability of coming from C_2 = 5.609233457011277e-09\n",
      "\n",
      "6.764626397195623\n",
      "Probability of coming from C_1 = 0.06562549202341016\n",
      "Probability of coming from C_2 = 0.9343745079765898\n",
      "\n",
      "3.074083316434325\n",
      "Probability of coming from C_1 = 0.999999936740845\n",
      "Probability of coming from C_2 = 6.325915510140684e-08\n",
      "\n",
      "3.13647132937946\n",
      "Probability of coming from C_1 = 0.9999999093665571\n",
      "Probability of coming from C_2 = 9.063344284154448e-08\n",
      "\n",
      "9.292010447618445\n",
      "Probability of coming from C_1 = 1.4655777816247628e-06\n",
      "Probability of coming from C_2 = 0.9999985344222183\n",
      "\n",
      "4.625439672496097\n",
      "Probability of coming from C_1 = 0.9996600266074497\n",
      "Probability of coming from C_2 = 0.00033997339255030745\n",
      "\n",
      "5.168554279049571\n",
      "Probability of coming from C_1 = 0.9942475373542949\n",
      "Probability of coming from C_2 = 0.005752462645705003\n",
      "\n",
      "7.794180905641904\n",
      "Probability of coming from C_1 = 0.0006880148876418765\n",
      "Probability of coming from C_2 = 0.9993119851123581\n",
      "\n"
     ]
    }
   ],
   "source": [
    "from scipy.stats import norm\n",
    "\n",
    "prob_c0_x = [] # P(C_0 | X_i)\n",
    "prob_c1_x = [] # P(C_1 | X_i)\n",
    "prob_x = [] # P(X_i)\n",
    "\n",
    "k = 2\n",
    "\n",
    "for p in data:\n",
    "    print(\"point = \", p)\n",
    "    pdf_i = []\n",
    "\n",
    "    for j in range(k):\n",
    "        # P(X_i | C_j)\n",
    "        pdf_i.append(norm.pdf(p, mean[j], var[j]))\n",
    "        print(\"probability of observing that point if it came from cluster \" + str(j) + \" = \", pdf_i[j])\n",
    "        # P(C_j) already computed\n",
    "        prob_c[j]\n",
    "\n",
    "    # P(X_i) = P(C_0)P(X_i | C_0) + P(C_1)P(X_i | C_1)\n",
    "    prob_x = prob_c[0] * pdf_i[0] + prob_c[1] * pdf_i[1]\n",
    "\n",
    "    # P(C_j | X_i) = P(X_i | C_j)P(C_j) / P(X_i)\n",
    "    prob_c0_x.append( prob_c[0] * pdf_i[0]/prob_x )\n",
    "    prob_c1_x.append( prob_c[1] * pdf_i[1]/prob_x )\n",
    "\n",
    "probs = zip(data, prob_c0_x, prob_c1_x)\n",
    "for p in probs:\n",
    "    print(p[0])\n",
    "    print(\"Probability of coming from C_1 = \" + str(p[1]))\n",
    "    print(\"Probability of coming from C_2 = \" + str(p[2]))\n",
    "    print()\n"
   ]
  },
  {
   "cell_type": "markdown",
   "metadata": {},
   "source": [
    "f) Having computed `P(C_j | X_i)`, update the estimates of `mean_j`, `var_j`, and `P(C_j)`. How different are these values from the original ones you got from K means? briefly comment."
   ]
  },
  {
   "cell_type": "code",
   "execution_count": 7,
   "metadata": {},
   "outputs": [
    {
     "name": "stdout",
     "output_type": "stream",
     "text": [
      "P(C_1) = 0.6058784609632566,  P(C_2) = 0.39412153903674335\n",
      "mean_1 = 3.957657308979374,  mean_2 = 8.110054758162839\n",
      "var_1 = 1.0674527489057313,  var_2 = 0.8698411018715476\n"
     ]
    }
   ],
   "source": [
    "prob_c = [sum(prob_c0_x)/ len(prob_c0_x), sum(prob_c1_x)/len(prob_c1_x) ]\n",
    "mean = [sum([x[0] * x[1] for x in zip(prob_c0_x, data)]) / sum(prob_c0_x), sum([x[0] * x[1] for x in zip(prob_c1_x, data)]) / sum(prob_c1_x) ]\n",
    "\n",
    "var = [ sum(x[0] * x[1] for x in zip(prob_c0_x, map(lambda y : (y-mean[0])**2,data)) )/ sum(prob_c0_x), sum(x[0] * x[1] for x in zip(prob_c1_x, map(lambda y : (y-mean[1])**2,data)) )/ sum(prob_c1_x) ]\n",
    "\n",
    "print(\"P(C_1) = \" + str(prob_c[0]) + \",  P(C_2) = \" + str(prob_c[1]))\n",
    "print(\"mean_1 = \" + str(mean[0]) + \",  mean_2 = \" + str(mean[1]))\n",
    "print(\"var_1 = \" + str(var[0]) + \",  var_2 = \" + str(var[1]))"
   ]
  },
  {
   "cell_type": "markdown",
   "metadata": {},
   "source": []
  },
  {
   "cell_type": "markdown",
   "metadata": {},
   "source": [
    "g) Update `P(C_j | X_i)`. Comment on any differences or lack thereof you observe."
   ]
  },
  {
   "cell_type": "code",
   "execution_count": 18,
   "metadata": {},
   "outputs": [
    {
     "name": "stdout",
     "output_type": "stream",
     "text": [
      "point =  4.90401933691874\n",
      "point =  8.523721486141207\n",
      "point =  2.6589586525627107\n",
      "point =  6.764626397195623\n",
      "point =  3.074083316434325\n",
      "point =  3.13647132937946\n",
      "point =  9.292010447618445\n",
      "point =  4.625439672496097\n",
      "point =  5.168554279049571\n",
      "point =  7.794180905641904\n",
      "4.90401933691874\n",
      "Probability of coming from C_1 = 0.9986746601680708\n",
      "Probability of coming from C_2 = 0.0013253398319292688\n",
      "\n",
      "8.523721486141207\n",
      "Probability of coming from C_1 = 0.0001491719110571509\n",
      "Probability of coming from C_2 = 0.9998508280889428\n",
      "\n",
      "2.6589586525627107\n",
      "Probability of coming from C_1 = 0.9999999950378123\n",
      "Probability of coming from C_2 = 4.96218756325845e-09\n",
      "\n",
      "6.764626397195623\n",
      "Probability of coming from C_1 = 0.11548837658902146\n",
      "Probability of coming from C_2 = 0.8845116234109786\n",
      "\n",
      "3.074083316434325\n",
      "Probability of coming from C_1 = 0.9999999407827921\n",
      "Probability of coming from C_2 = 5.921720792324959e-08\n",
      "\n",
      "3.13647132937946\n",
      "Probability of coming from C_1 = 0.9999999146111747\n",
      "Probability of coming from C_2 = 8.538882537243242e-08\n",
      "\n",
      "9.292010447618445\n",
      "Probability of coming from C_1 = 1.1912896798811837e-05\n",
      "Probability of coming from C_2 = 0.9999880871032013\n",
      "\n",
      "4.625439672496097\n",
      "Probability of coming from C_1 = 0.9996822048000412\n",
      "Probability of coming from C_2 = 0.0003177951999587613\n",
      "\n",
      "5.168554279049571\n",
      "Probability of coming from C_1 = 0.9950316097132866\n",
      "Probability of coming from C_2 = 0.004968390286713304\n",
      "\n",
      "7.794180905641904\n",
      "Probability of coming from C_1 = 0.0020920554218121965\n",
      "Probability of coming from C_2 = 0.9979079445781878\n",
      "\n"
     ]
    }
   ],
   "source": [
    "from scipy.stats import norm\n",
    "\n",
    "prob_c0_x = [] # P(C_0 | X_i)\n",
    "prob_c1_x = [] # P(C_1 | X_i)\n",
    "prob_x = [] # P(X_i)\n",
    "\n",
    "k = 2\n",
    "\n",
    "for p in data:\n",
    "    print(\"point = \", p)\n",
    "    pdf_i = []\n",
    "\n",
    "    for j in range(k):\n",
    "        # P(X_i | C_j)\n",
    "        pdf_i.append(norm.pdf(p, mean[j], var[j]))\n",
    "        # print(\"probability of observing that point if it came from cluster \" + str(j) + \" = \", pdf_i[j])\n",
    "        # P(C_j) already computed\n",
    "        prob_c[j]\n",
    "\n",
    "    # P(X_i) = P(C_0)P(X_i | C_0) + P(C_1)P(X_i | C_1)\n",
    "    prob_x = prob_c[0] * pdf_i[0] + prob_c[1] * pdf_i[1]\n",
    "\n",
    "    # P(C_j | X_i) = P(X_i | C_j)P(C_j) / P(X_i)\n",
    "    prob_c0_x.append( prob_c[0] * pdf_i[0]/prob_x )\n",
    "    prob_c1_x.append( prob_c[1] * pdf_i[1]/prob_x )\n",
    "\n",
    "probs = zip(data, prob_c0_x, prob_c1_x)\n",
    "for p in probs:\n",
    "    print(p[0])\n",
    "    print(\"Probability of coming from C_1 = \" + str(p[1]))\n",
    "    print(\"Probability of coming from C_2 = \" + str(p[2]))\n",
    "    print()\n"
   ]
  },
  {
   "cell_type": "markdown",
   "metadata": {},
   "source": []
  },
  {
   "cell_type": "markdown",
   "metadata": {},
   "source": [
    "h) Use `P(C_j | X_i)` to create a hard assignment - label each point as belonging to a specific cluster (0 or 1)"
   ]
  },
  {
   "cell_type": "code",
   "execution_count": 20,
   "metadata": {},
   "outputs": [],
   "source": [
    "for p in probs:\n",
    "    print(p[0])\n",
    "    # print(\"Probability of coming from C_1 = \" + str(p[1]))\n",
    "    # print(\"Probability of coming from C_2 = \" + str(p[2]))\n",
    "    if p[1]>[p2]:\n",
    "        print(\"point is in cluster c1\")\n",
    "    else:\n",
    "        print(\"point is in cluster c2\")\n",
    "    print()"
   ]
  },
  {
   "cell_type": "markdown",
   "metadata": {},
   "source": [
    "### Clustering Aggregation\n",
    "\n",
    "| Point | C | P |\n",
    "|-------|---|---|\n",
    "| A     | 0 | a |\n",
    "| B     | 0 | b |\n",
    "| C     | 2 | b |\n",
    "| D     | 1 | c |\n",
    "| E     | 1 | d |\n",
    "\n",
    "a) Fill in the following table where for each pair of points determine whether C and P agree or disagree on how to cluster that pair."
   ]
  },
  {
   "cell_type": "markdown",
   "metadata": {},
   "source": [
    "| Pair | Disagreement |\n",
    "|------|--------------|\n",
    "| A  B |      ?       |\n",
    "| A  C |      ?       |\n",
    "| A  D |      ?       |\n",
    "| A  E |      ?       |\n",
    "| B  C |      ?       |\n",
    "| B  D |      ?       |\n",
    "| B  E |      ?       |\n",
    "| C  D |      ?       |\n",
    "| C  E |      ?       |\n",
    "| D  E |      ?       |\n"
   ]
  },
  {
   "cell_type": "markdown",
   "metadata": {},
   "source": [
    "As datasets become very large, this process can become computationally challenging.\n",
    "\n",
    "b) Given N points, what is the formula for the number of unique pairs of points one can create?"
   ]
  },
  {
   "cell_type": "markdown",
   "metadata": {},
   "source": []
  },
  {
   "cell_type": "markdown",
   "metadata": {},
   "source": [
    "Assume that clustering C clusters all points in the same cluster and clustering P clusters points as such:\n",
    "\n",
    "| Point | P |\n",
    "|-------|---|\n",
    "| A     | 0 |\n",
    "| B     | 0 |\n",
    "| C     | 0 |\n",
    "| D     | 1 |\n",
    "| E     | 1 |\n",
    "| F     | 2 |\n",
    "| G     | 2 |\n",
    "| H     | 2 |\n",
    "| I     | 2 |\n",
    "\n",
    "c) What is the maximum number of disagreements there could be for a dataset of this size? (use the formula from b)?"
   ]
  },
  {
   "cell_type": "markdown",
   "metadata": {},
   "source": []
  },
  {
   "cell_type": "markdown",
   "metadata": {},
   "source": [
    "d) If we look at cluster 0. There are (3 x 2) / 2 = 3 pairs that agree with C (since all points in C are in the same cluster). For each cluster, determine how many agreements there are. How many total agreements are there? How many disagreements does that mean there are between C and P?"
   ]
  },
  {
   "cell_type": "markdown",
   "metadata": {},
   "source": []
  },
  {
   "cell_type": "markdown",
   "metadata": {},
   "source": [
    "e) Assuming that filtering the dataset by cluster number is a computationally easy operation, describe an algorithm inspired by the above process that can efficiently compute disagreement distances on large datasets."
   ]
  },
  {
   "cell_type": "markdown",
   "metadata": {},
   "source": []
  }
 ],
 "metadata": {
  "kernelspec": {
   "display_name": "Python 3.9.6 64-bit",
   "language": "python",
   "name": "python3"
  },
  "language_info": {
   "codemirror_mode": {
    "name": "ipython",
    "version": 3
   },
   "file_extension": ".py",
   "mimetype": "text/x-python",
   "name": "python",
   "nbconvert_exporter": "python",
   "pygments_lexer": "ipython3",
   "version": "3.9.6"
  },
  "orig_nbformat": 4,
  "vscode": {
   "interpreter": {
    "hash": "31f2aee4e71d21fbe5cf8b01ff0e069b9275f58929596ceb00d14d90e3e16cd6"
   }
  }
 },
 "nbformat": 4,
 "nbformat_minor": 2
}
