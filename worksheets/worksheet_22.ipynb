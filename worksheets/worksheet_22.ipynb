{
 "cells": [
  {
   "attachments": {},
   "cell_type": "markdown",
   "metadata": {},
   "source": [
    "# Worksheet 22\n",
    "\n",
    "Name:  Taoyu Chen\n",
    "UID: U82740711\n",
    "\n",
    "### Topics\n",
    "\n",
    "- Networks & Graphs\n",
    "\n",
    "## Networks & Graphs\n",
    "\n",
    "a) For each of the following, give an example of a question about a graph that is faster to answer when the graph is stored as:\n",
    "\n",
    "- an adjacency matrix\n",
    "- an adjacency list"
   ]
  },
  {
   "attachments": {},
   "cell_type": "markdown",
   "metadata": {},
   "source": [
    "Adjacency Matrix:\n",
    "Question: Is there a direct edge between vertex A and vertex B?\n",
    "\n",
    "Rationale: With an adjacency matrix, you can answer this question in constant time (O(1)), since you only need to check the value at the corresponding row and column in the matrix. If the value is 1 (or the weight of the edge), there is a direct edge between vertex A and vertex B. In an adjacency list, this operation could take up to O(n) time, where n is the number of vertices, as you may need to search through the list of adjacent vertices for vertex A.\n",
    "\n",
    "Adjacency List:\n",
    "Question: What is the degree of vertex A?\n",
    "\n",
    "Rationale: With an adjacency list, you can answer this question in constant time (O(1)) if you store the degree of each vertex as part of the data structure. Alternatively, you can determine the degree in O(k) time, where k is the number of adjacent vertices for vertex A, by counting the adjacent vertices in the list. With an adjacency matrix, this operation would take O(n) time, where n is the number of vertices, as you would need to check all the entries in the corresponding row or column in the matrix."
   ]
  },
  {
   "cell_type": "markdown",
   "metadata": {},
   "source": [
    "b) Load the following graph using the networkx library\n",
    "\n",
    "```\n",
    "A : {B, C}\n",
    "B : {A, D, E}\n",
    "C : {A, F}\n",
    "E : {B, G, H}\n",
    "```\n"
   ]
  },
  {
   "cell_type": "code",
   "execution_count": 2,
   "metadata": {},
   "outputs": [
    {
     "name": "stdout",
     "output_type": "stream",
     "text": [
      "['A', 'B', 'C', 'D', 'E', 'F', 'G', 'H']\n"
     ]
    }
   ],
   "source": [
    "import networkx as nx\n",
    "\n",
    "G = nx.Graph()\n",
    "\n",
    "# Add nodes and edges\n",
    "G.add_edges_from([('A', 'B'), ('A', 'C'), ('B', 'D'), ('B', 'E'), ('C', 'F'), ('E', 'G'), ('E', 'H')])\n",
    "\n",
    "# Print the nodes in the graph\n",
    "print(G.nodes())\n"
   ]
  },
  {
   "cell_type": "markdown",
   "metadata": {},
   "source": [
    "c) Print the following about the graph:\n",
    "\n",
    "- the diameter\n",
    "- the neighbors of node `A`\n",
    "- the density\n",
    "- degree centrality\n",
    "- closeness centrality\n",
    "- betweenness centrality"
   ]
  },
  {
   "cell_type": "code",
   "execution_count": 3,
   "metadata": {},
   "outputs": [
    {
     "name": "stdout",
     "output_type": "stream",
     "text": [
      "Diameter: 5\n",
      "Neighbors of node A: ['B', 'C']\n",
      "Density: 0.25\n",
      "Degree Centrality: {'A': 0.2857142857142857, 'B': 0.42857142857142855, 'C': 0.2857142857142857, 'D': 0.14285714285714285, 'E': 0.42857142857142855, 'F': 0.14285714285714285, 'G': 0.14285714285714285, 'H': 0.14285714285714285}\n",
      "Closeness Centrality: {'A': 0.5, 'B': 0.5833333333333334, 'C': 0.3888888888888889, 'D': 0.3888888888888889, 'E': 0.5, 'F': 0.2916666666666667, 'G': 0.35, 'H': 0.35}\n",
      "Betweenness Centrality: {'A': 0.47619047619047616, 'B': 0.7142857142857142, 'C': 0.2857142857142857, 'D': 0.0, 'E': 0.5238095238095237, 'F': 0.0, 'G': 0.0, 'H': 0.0}\n"
     ]
    }
   ],
   "source": [
    "import networkx as nx\n",
    "\n",
    "# Compute graph properties\n",
    "diameter = nx.diameter(G)\n",
    "neighbors_a = list(G.neighbors('A'))\n",
    "density = nx.density(G)\n",
    "degree_centrality = nx.degree_centrality(G)\n",
    "closeness_centrality = nx.closeness_centrality(G)\n",
    "betweenness_centrality = nx.betweenness_centrality(G)\n",
    "\n",
    "# Print graph properties\n",
    "print(\"Diameter:\", diameter)\n",
    "print(\"Neighbors of node A:\", neighbors_a)\n",
    "print(\"Density:\", density)\n",
    "print(\"Degree Centrality:\", degree_centrality)\n",
    "print(\"Closeness Centrality:\", closeness_centrality)\n",
    "print(\"Betweenness Centrality:\", betweenness_centrality)\n"
   ]
  },
  {
   "cell_type": "markdown",
   "metadata": {},
   "source": [
    "d) What is the Kendall-Tau distance between the following rankings:\n",
    "\n",
    "\n",
    "|   | R_1 | R_2 |\n",
    "|---|-----|-----|\n",
    "| A | 1   |  5  |\n",
    "| B | 2   |  6  |\n",
    "| C | 3   |  7  |\n",
    "| D | 4   |  4  |\n",
    "| E | 5   |  1  |\n",
    "| F | 6   |  2  |\n",
    "| G | 7   |  3  |"
   ]
  },
  {
   "attachments": {},
   "cell_type": "markdown",
   "metadata": {},
   "source": [
    "18"
   ]
  }
 ],
 "metadata": {
  "kernelspec": {
   "display_name": "Python 3",
   "language": "python",
   "name": "python3"
  },
  "language_info": {
   "codemirror_mode": {
    "name": "ipython",
    "version": 3
   },
   "file_extension": ".py",
   "mimetype": "text/x-python",
   "name": "python",
   "nbconvert_exporter": "python",
   "pygments_lexer": "ipython3",
   "version": "3.10.11"
  },
  "orig_nbformat": 4,
  "vscode": {
   "interpreter": {
    "hash": "e7370f93d1d0cde622a1f8e1c04877d8463912d04d973331ad4851f04de6915a"
   }
  }
 },
 "nbformat": 4,
 "nbformat_minor": 2
}
