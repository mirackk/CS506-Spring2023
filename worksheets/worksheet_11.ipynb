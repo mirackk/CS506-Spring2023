{
 "cells": [
  {
   "attachments": {},
   "cell_type": "markdown",
   "metadata": {},
   "source": [
    "# Worksheet 11\n",
    "\n",
    "Name:  Taoyu Chen\n",
    "UID: U82740711\n",
    "\n",
    "### Topics\n",
    "\n",
    "- Decision Trees\n",
    "\n",
    "### Decision Trees"
   ]
  },
  {
   "cell_type": "code",
   "execution_count": 1,
   "metadata": {},
   "outputs": [
    {
     "ename": "FileNotFoundError",
     "evalue": "[Errno 2] No such file or directory: 'tree.jpg'",
     "output_type": "error",
     "traceback": [
      "\u001b[0;31m---------------------------------------------------------------------------\u001b[0m",
      "\u001b[0;31mFileNotFoundError\u001b[0m                         Traceback (most recent call last)",
      "Cell \u001b[0;32mIn [1], line 2\u001b[0m\n\u001b[1;32m      1\u001b[0m \u001b[39mfrom\u001b[39;00m \u001b[39mIPython\u001b[39;00m\u001b[39m.\u001b[39;00m\u001b[39mdisplay\u001b[39;00m \u001b[39mimport\u001b[39;00m Image\n\u001b[0;32m----> 2\u001b[0m Image(filename\u001b[39m=\u001b[39;49m\u001b[39m\"\u001b[39;49m\u001b[39mtree.jpg\u001b[39;49m\u001b[39m\"\u001b[39;49m, width\u001b[39m=\u001b[39;49m\u001b[39m500\u001b[39;49m, height\u001b[39m=\u001b[39;49m\u001b[39m300\u001b[39;49m)\n",
      "File \u001b[0;32m~/Library/Python/3.9/lib/python/site-packages/IPython/core/display.py:957\u001b[0m, in \u001b[0;36mImage.__init__\u001b[0;34m(self, data, url, filename, format, embed, width, height, retina, unconfined, metadata, alt)\u001b[0m\n\u001b[1;32m    955\u001b[0m \u001b[39mself\u001b[39m\u001b[39m.\u001b[39munconfined \u001b[39m=\u001b[39m unconfined\n\u001b[1;32m    956\u001b[0m \u001b[39mself\u001b[39m\u001b[39m.\u001b[39malt \u001b[39m=\u001b[39m alt\n\u001b[0;32m--> 957\u001b[0m \u001b[39msuper\u001b[39;49m(Image, \u001b[39mself\u001b[39;49m)\u001b[39m.\u001b[39;49m\u001b[39m__init__\u001b[39;49m(data\u001b[39m=\u001b[39;49mdata, url\u001b[39m=\u001b[39;49murl, filename\u001b[39m=\u001b[39;49mfilename,\n\u001b[1;32m    958\u001b[0m         metadata\u001b[39m=\u001b[39;49mmetadata)\n\u001b[1;32m    960\u001b[0m \u001b[39mif\u001b[39;00m \u001b[39mself\u001b[39m\u001b[39m.\u001b[39mwidth \u001b[39mis\u001b[39;00m \u001b[39mNone\u001b[39;00m \u001b[39mand\u001b[39;00m \u001b[39mself\u001b[39m\u001b[39m.\u001b[39mmetadata\u001b[39m.\u001b[39mget(\u001b[39m'\u001b[39m\u001b[39mwidth\u001b[39m\u001b[39m'\u001b[39m, {}):\n\u001b[1;32m    961\u001b[0m     \u001b[39mself\u001b[39m\u001b[39m.\u001b[39mwidth \u001b[39m=\u001b[39m metadata[\u001b[39m'\u001b[39m\u001b[39mwidth\u001b[39m\u001b[39m'\u001b[39m]\n",
      "File \u001b[0;32m~/Library/Python/3.9/lib/python/site-packages/IPython/core/display.py:327\u001b[0m, in \u001b[0;36mDisplayObject.__init__\u001b[0;34m(self, data, url, filename, metadata)\u001b[0m\n\u001b[1;32m    324\u001b[0m \u001b[39melif\u001b[39;00m \u001b[39mself\u001b[39m\u001b[39m.\u001b[39mmetadata \u001b[39mis\u001b[39;00m \u001b[39mNone\u001b[39;00m:\n\u001b[1;32m    325\u001b[0m     \u001b[39mself\u001b[39m\u001b[39m.\u001b[39mmetadata \u001b[39m=\u001b[39m {}\n\u001b[0;32m--> 327\u001b[0m \u001b[39mself\u001b[39;49m\u001b[39m.\u001b[39;49mreload()\n\u001b[1;32m    328\u001b[0m \u001b[39mself\u001b[39m\u001b[39m.\u001b[39m_check_data()\n",
      "File \u001b[0;32m~/Library/Python/3.9/lib/python/site-packages/IPython/core/display.py:992\u001b[0m, in \u001b[0;36mImage.reload\u001b[0;34m(self)\u001b[0m\n\u001b[1;32m    990\u001b[0m \u001b[39m\"\"\"Reload the raw data from file or URL.\"\"\"\u001b[39;00m\n\u001b[1;32m    991\u001b[0m \u001b[39mif\u001b[39;00m \u001b[39mself\u001b[39m\u001b[39m.\u001b[39membed:\n\u001b[0;32m--> 992\u001b[0m     \u001b[39msuper\u001b[39;49m(Image,\u001b[39mself\u001b[39;49m)\u001b[39m.\u001b[39;49mreload()\n\u001b[1;32m    993\u001b[0m     \u001b[39mif\u001b[39;00m \u001b[39mself\u001b[39m\u001b[39m.\u001b[39mretina:\n\u001b[1;32m    994\u001b[0m         \u001b[39mself\u001b[39m\u001b[39m.\u001b[39m_retina_shape()\n",
      "File \u001b[0;32m~/Library/Python/3.9/lib/python/site-packages/IPython/core/display.py:353\u001b[0m, in \u001b[0;36mDisplayObject.reload\u001b[0;34m(self)\u001b[0m\n\u001b[1;32m    351\u001b[0m \u001b[39mif\u001b[39;00m \u001b[39mself\u001b[39m\u001b[39m.\u001b[39mfilename \u001b[39mis\u001b[39;00m \u001b[39mnot\u001b[39;00m \u001b[39mNone\u001b[39;00m:\n\u001b[1;32m    352\u001b[0m     encoding \u001b[39m=\u001b[39m \u001b[39mNone\u001b[39;00m \u001b[39mif\u001b[39;00m \u001b[39m\"\u001b[39m\u001b[39mb\u001b[39m\u001b[39m\"\u001b[39m \u001b[39min\u001b[39;00m \u001b[39mself\u001b[39m\u001b[39m.\u001b[39m_read_flags \u001b[39melse\u001b[39;00m \u001b[39m\"\u001b[39m\u001b[39mutf-8\u001b[39m\u001b[39m\"\u001b[39m\n\u001b[0;32m--> 353\u001b[0m     \u001b[39mwith\u001b[39;00m \u001b[39mopen\u001b[39;49m(\u001b[39mself\u001b[39;49m\u001b[39m.\u001b[39;49mfilename, \u001b[39mself\u001b[39;49m\u001b[39m.\u001b[39;49m_read_flags, encoding\u001b[39m=\u001b[39;49mencoding) \u001b[39mas\u001b[39;00m f:\n\u001b[1;32m    354\u001b[0m         \u001b[39mself\u001b[39m\u001b[39m.\u001b[39mdata \u001b[39m=\u001b[39m f\u001b[39m.\u001b[39mread()\n\u001b[1;32m    355\u001b[0m \u001b[39melif\u001b[39;00m \u001b[39mself\u001b[39m\u001b[39m.\u001b[39murl \u001b[39mis\u001b[39;00m \u001b[39mnot\u001b[39;00m \u001b[39mNone\u001b[39;00m:\n\u001b[1;32m    356\u001b[0m     \u001b[39m# Deferred import\u001b[39;00m\n",
      "\u001b[0;31mFileNotFoundError\u001b[0m: [Errno 2] No such file or directory: 'tree.jpg'"
     ]
    }
   ],
   "source": [
    "from IPython.display import Image\n",
    "Image(filename=\"tree.jpg\", width=500, height=300)"
   ]
  },
  {
   "cell_type": "markdown",
   "metadata": {},
   "source": [
    "Using the above Decision Tree, what class would you predict for the following unseen record:\n",
    "\n",
    "| Refund | Marital Status | Income |\n",
    "|--------|----------------|--------|\n",
    "| No     | Married        | 90k    |"
   ]
  },
  {
   "attachments": {},
   "cell_type": "markdown",
   "metadata": {},
   "source": [
    "NO"
   ]
  },
  {
   "attachments": {},
   "cell_type": "markdown",
   "metadata": {},
   "source": [
    "Working with a dataset that attempts to understand the relationship between `heart disease` and whether or not a person experiences `chest_pain` and/or has `thalassemia`. All the attributes are binary (either 0 or 1) for simplicity. "
   ]
  },
  {
   "cell_type": "code",
   "execution_count": 2,
   "metadata": {},
   "outputs": [],
   "source": [
    "import numpy as np\n",
    "\n",
    "data = np.genfromtxt(fname='./dataset.tsv', delimiter = '\\t', names = True)"
   ]
  },
  {
   "attachments": {},
   "cell_type": "markdown",
   "metadata": {},
   "source": [
    "a) Before splitting the dataset at all, we observe the following distribution of 1s and 0s in the `heart_disease` class:"
   ]
  },
  {
   "cell_type": "code",
   "execution_count": 3,
   "metadata": {},
   "outputs": [
    {
     "name": "stdout",
     "output_type": "stream",
     "text": [
      "[1. 0. 0. 0. 0. 0. 1. 1. 1. 0. 1. 0. 1. 0. 1. 1. 0. 0. 1. 0. 0. 0. 0. 0.\n",
      " 0. 1. 1. 1.]\n"
     ]
    }
   ],
   "source": [
    "print(data[\"heart_disease\"])"
   ]
  },
  {
   "cell_type": "markdown",
   "metadata": {},
   "source": [
    "write a function that calculates the GINI of that node."
   ]
  },
  {
   "cell_type": "code",
   "execution_count": 5,
   "metadata": {},
   "outputs": [
    {
     "name": "stdout",
     "output_type": "stream",
     "text": [
      "GINI of the node is  0.48979591836734704\n"
     ]
    }
   ],
   "source": [
    "def gini(dataset,target):\n",
    "    frequencies = [\n",
    "        np.mean(dataset[target]),\n",
    "        1-np.mean(dataset[target])\n",
    "    ]\n",
    "    return 1 - sum([f**2 for f in frequencies])\n",
    "\n",
    "print(\"GINI of the node is \", gini(data,\"heart_disease\"))"
   ]
  },
  {
   "attachments": {},
   "cell_type": "markdown",
   "metadata": {},
   "source": [
    "b) Write a function that computes the gini of a split."
   ]
  },
  {
   "cell_type": "code",
   "execution_count": 6,
   "metadata": {},
   "outputs": [
    {
     "name": "stdout",
     "output_type": "stream",
     "text": [
      "GINI of split on thalassemia =  0.23469387755102047\n",
      "GINI of split on chest_pain =  0.4419642857142857\n"
     ]
    }
   ],
   "source": [
    "def gini_split(data, attr, target_name):\n",
    "    ginis = [\n",
    "        len(data[data[attr] == 0]) * gini(data[data[attr] == 0], target_name), # get subset of data where attribute is 0\n",
    "        len(data[data[attr] == 1]) * gini(data[data[attr] == 1], target_name)  # get subset of data where attribute is 1\n",
    "    ]\n",
    "\n",
    "    return sum(ginis)/len(data)\n",
    "\n",
    "print(\"GINI of split on thalassemia = \", gini_split(data, \"thalassemia\", \"heart_disease\"))\n",
    "print(\"GINI of split on chest_pain = \", gini_split(data, \"chest_pain\", \"heart_disease\"))"
   ]
  },
  {
   "attachments": {},
   "cell_type": "markdown",
   "metadata": {},
   "source": [
    "We can represent a decision tree recursively with the `Node` class below."
   ]
  },
  {
   "cell_type": "code",
   "execution_count": 7,
   "metadata": {},
   "outputs": [
    {
     "name": "stdout",
     "output_type": "stream",
     "text": [
      "A = 0: \n",
      "| B = 0: \n",
      "| | vote = 0\n",
      "| B = 1: \n",
      "| | vote = 1\n",
      "A = 1: \n",
      "| C = 0: \n",
      "| | vote = 0\n",
      "| C = 1: \n",
      "| | vote = 1\n",
      "\n"
     ]
    }
   ],
   "source": [
    "class Node:\n",
    "    def __init__(self, attribute):\n",
    "        self.attr = attribute\n",
    "        self.left = None\n",
    "        self.right = None\n",
    "        self.vote = None\n",
    "    \n",
    "    def _node_at(self, depth):\n",
    "        pretty_print = \"\"\n",
    "        if self.left is not None:\n",
    "            for _ in range(depth):\n",
    "                pretty_print += \"| \"\n",
    "            pretty_print += self.attr + ' = 0: \\n'\n",
    "            pretty_print += self.left._node_at(depth + 1)\n",
    "    \n",
    "        if self.right is not None:\n",
    "            for _ in range(depth):\n",
    "                pretty_print += \"| \"\n",
    "            pretty_print += self.attr + ' = 1: \\n'\n",
    "            pretty_print += self.right._node_at(depth + 1)\n",
    "        \n",
    "        if self.right is None and self.left is None:\n",
    "            for _ in range(depth):\n",
    "                pretty_print += \"| \"\n",
    "            pretty_print += \"vote = \" + str(self.vote) + '\\n'\n",
    "        \n",
    "        return pretty_print\n",
    "\n",
    "    def __repr__(self):\n",
    "        return self._node_at(0)\n",
    "    \n",
    "B = Node(\"B\")\n",
    "C = Node(\"C\")\n",
    "left_leaf = Node(\"leaf\")\n",
    "left_leaf.vote = 0\n",
    "right_leaf = Node(\"leaf\")\n",
    "right_leaf.vote = 1\n",
    "\n",
    "B.right = right_leaf\n",
    "B.left = left_leaf\n",
    "C.right = right_leaf\n",
    "C.left = left_leaf\n",
    "\n",
    "tree = Node(\"A\")\n",
    "tree.left = B\n",
    "tree.right = C\n",
    "\n",
    "print(tree)"
   ]
  },
  {
   "attachments": {},
   "cell_type": "markdown",
   "metadata": {},
   "source": [
    "Each node is defined by splitting the dataset on a specific attribute. If the attribute value is 0, we explore the left node, if the attribute value is 1, we explore the right node. The left and right nodes are both of type `Node`. If the node has no left node and no right node then it is a leaf node and should contain a vote for what class should be predicted.\n",
    "\n",
    "c) Write a function that takes in a decision tree and a data point, and walks through the tree based on the data point's attribute values to predict its class."
   ]
  },
  {
   "cell_type": "code",
   "execution_count": 8,
   "metadata": {},
   "outputs": [
    {
     "name": "stdout",
     "output_type": "stream",
     "text": [
      "1\n",
      "0\n",
      "0\n",
      "1\n"
     ]
    }
   ],
   "source": [
    "def predict(tree : Node, example):\n",
    "    if tree.left is None and tree.right is None:\n",
    "        return tree.vote\n",
    "    \n",
    "    if example[tree.attr] == 0:\n",
    "        return predict(tree.left,example)\n",
    "\n",
    "    if example[tree.attr] == 1:\n",
    "        return predict(tree.right,example)\n",
    "\n",
    "    return 0\n",
    "\n",
    "print(predict(tree, {\"A\": 0, \"B\": 1, \"C\": 0})) # A -> B -> right\n",
    "print(predict(tree, {\"A\": 0, \"B\": 0, \"C\": 0})) # A -> B -> left\n",
    "print(predict(tree, {\"A\": 1, \"B\": 1, \"C\": 0})) # A -> C -> left\n",
    "print(predict(tree, {\"A\": 1, \"B\": 1, \"C\": 1})) # A -> C -> right\n"
   ]
  },
  {
   "cell_type": "code",
   "execution_count": 10,
   "metadata": {},
   "outputs": [
    {
     "data": {
      "text/plain": [
       "('chest_pain', 'thalassemia', 'heart_disease')"
      ]
     },
     "execution_count": 10,
     "metadata": {},
     "output_type": "execute_result"
    }
   ],
   "source": [
    "data.dtype.names"
   ]
  },
  {
   "attachments": {},
   "cell_type": "markdown",
   "metadata": {},
   "source": [
    "d) Write a function that finds the best attribute to split on wrt the GINI of the split. Recall a smaller GINI is better."
   ]
  },
  {
   "cell_type": "code",
   "execution_count": 9,
   "metadata": {},
   "outputs": [],
   "source": [
    "def get_best_attribute(data, target_name):\n",
    "    # keep track of best attr and its gini\n",
    "    best_attr = {\n",
    "        'attr' : None,\n",
    "        'gini' : None\n",
    "    }\n",
    "    for attr in data.dtype.names:\n",
    "        if attr != target_name:\n",
    "            gini_attr = gini_split(data, attr, target_name)\n",
    "            # check if values are still None OR if we have found a lower GINI index\n",
    "            if best_attr['gini'] is None or best_attr['gini'] > gini_attr:\n",
    "                best_attr['attr'] = attr\n",
    "                best_attr['gini'] = gini_attr\n",
    "\n",
    "    return best_attr"
   ]
  },
  {
   "attachments": {},
   "cell_type": "markdown",
   "metadata": {},
   "source": [
    "e) Complete the code below to build a `SimpleDecisionTree` on the dataset provided."
   ]
  },
  {
   "cell_type": "code",
   "execution_count": 11,
   "metadata": {},
   "outputs": [
    {
     "name": "stdout",
     "output_type": "stream",
     "text": [
      "thalassemia = 0: \n",
      "| chest_pain = 0: \n",
      "| | vote = 0\n",
      "| chest_pain = 1: \n",
      "| | vote = 0\n",
      "thalassemia = 1: \n",
      "| chest_pain = 0: \n",
      "| | vote = 1\n",
      "| chest_pain = 1: \n",
      "| | vote = 1\n",
      "\n"
     ]
    },
    {
     "name": "stderr",
     "output_type": "stream",
     "text": [
      "/Users/mirackchan/Library/Python/3.9/lib/python/site-packages/numpy/core/fromnumeric.py:3432: RuntimeWarning: Mean of empty slice.\n",
      "  return _methods._mean(a, axis=axis, dtype=dtype,\n",
      "/Users/mirackchan/Library/Python/3.9/lib/python/site-packages/numpy/core/_methods.py:190: RuntimeWarning: invalid value encountered in double_scalars\n",
      "  ret = ret.dtype.type(ret / rcount)\n"
     ]
    }
   ],
   "source": [
    "class SimpleDecisionTree:\n",
    "    \n",
    "    def __init__(self, max_depth, data, target_name):\n",
    "        self.max_depth = max_depth\n",
    "        self.data = data\n",
    "        self.target_name = target_name\n",
    "        self.tree = None\n",
    "        self.default_class = None\n",
    "\n",
    "\n",
    "    def __repr__(self):\n",
    "        return self.tree.__repr__()\n",
    "\n",
    "\n",
    "    def get_subset(self, data, attr):\n",
    "        subset_1 = data[data[attr] == 0]\n",
    "        subset_2 = data[data[attr] == 1]\n",
    "        return subset_1, subset_2\n",
    "\n",
    "\n",
    "    def gini_split(self, data, attr):\n",
    "        ginis = [\n",
    "            len(data[data[attr]==1])*gini(data[data[attr]==1],self.target_name),\n",
    "            len(data[data[attr]==0]) * gini(data[data[attr]==0],self.target_name)]\n",
    "\n",
    "        return sum(ginis)/len(data)\n",
    "\n",
    "\n",
    "    def get_majority_vote(self, data):\n",
    "        if np.mean(data[self.target_name])>.5:\n",
    "            return 1\n",
    "        return 0\n",
    "        \n",
    "\n",
    "    def get_best_attribute(self, data):        \n",
    "        best_attr = None\n",
    "        currmin=float('inf')\n",
    "        for attr in data.dtype.names:\n",
    "            if attr != self.target_name:\n",
    "                gin=gini_split(data,attr,self.target_name)\n",
    "                if gin < currmin:\n",
    "                    currmin=gin\n",
    "                    best_attr=attr\n",
    "\n",
    "        return best_attr\n",
    "\n",
    "\n",
    "    def build_tree(self, data, depth):        \n",
    "        attr = self.get_best_attribute(data)\n",
    "        node = Node(attr)\n",
    "\n",
    "        if depth == 0:\n",
    "            if data is None:\n",
    "                node.vote = self.default_class\n",
    "            else:\n",
    "                node.vote = self.get_majority_vote(data)\n",
    "            return node\n",
    "\n",
    "        left, right = self.get_subset(data, node.attr)\n",
    "\n",
    "        node.left = self.build_tree(left, depth - 1)\n",
    "        node.right = self.build_tree(right, depth - 1)\n",
    "\n",
    "        if node.left is None and node.right is None:\n",
    "            node.vote = self.get_majority_vote(data)\n",
    "            \n",
    "        return node\n",
    "\n",
    "\n",
    "    def train(self):\n",
    "        if self.max_depth > len(self.data.dtype.names) - 1:\n",
    "            self.max_depth = len(self.data.dtype.names) - 1\n",
    "\n",
    "        self.default_class = self.get_majority_vote(self.data)\n",
    "        self.tree = self.build_tree(self.data, self.max_depth)\n",
    "\n",
    "\n",
    "simple_tree = SimpleDecisionTree(2, data, \"heart_disease\")\n",
    "simple_tree.train()\n",
    "print(simple_tree)"
   ]
  }
 ],
 "metadata": {
  "kernelspec": {
   "display_name": "Python 3.9.6 64-bit",
   "language": "python",
   "name": "python3"
  },
  "language_info": {
   "codemirror_mode": {
    "name": "ipython",
    "version": 3
   },
   "file_extension": ".py",
   "mimetype": "text/x-python",
   "name": "python",
   "nbconvert_exporter": "python",
   "pygments_lexer": "ipython3",
   "version": "3.9.6"
  },
  "orig_nbformat": 4,
  "vscode": {
   "interpreter": {
    "hash": "31f2aee4e71d21fbe5cf8b01ff0e069b9275f58929596ceb00d14d90e3e16cd6"
   }
  }
 },
 "nbformat": 4,
 "nbformat_minor": 2
}
